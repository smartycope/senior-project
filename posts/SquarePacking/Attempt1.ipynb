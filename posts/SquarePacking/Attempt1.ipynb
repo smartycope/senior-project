{
  "cells": [
    {
      "cell_type": "code",
      "execution_count": 1,
      "metadata": {
        "id": "9sRm1LPDLuiD"
      },
      "outputs": [
        {
          "name": "stderr",
          "output_type": "stream",
          "text": [
            "2024-04-30 19:29:07.139573: I tensorflow/core/util/port.cc:113] oneDNN custom operations are on. You may see slightly different numerical results due to floating-point round-off errors from different computation orders. To turn them off, set the environment variable `TF_ENABLE_ONEDNN_OPTS=0`.\n",
            "2024-04-30 19:29:07.139892: I external/local_tsl/tsl/cuda/cudart_stub.cc:32] Could not find cuda drivers on your machine, GPU will not be used.\n",
            "2024-04-30 19:29:07.144709: I external/local_tsl/tsl/cuda/cudart_stub.cc:32] Could not find cuda drivers on your machine, GPU will not be used.\n",
            "2024-04-30 19:29:07.200270: I tensorflow/core/platform/cpu_feature_guard.cc:210] This TensorFlow binary is optimized to use available CPU instructions in performance-critical operations.\n",
            "To enable the following instructions: AVX2 AVX_VNNI FMA, in other operations, rebuild TensorFlow with the appropriate compiler flags.\n",
            "2024-04-30 19:29:08.563706: W tensorflow/compiler/tf2tensorrt/utils/py_utils.cc:38] TF-TRT Warning: Could not find TensorRT\n"
          ]
        }
      ],
      "source": [
        "from typing import Union, Tuple, List\n",
        "from PIL import Image, ImageDraw\n",
        "import math\n",
        "import random\n",
        "from sympy import flatten\n",
        "from numpy.linalg import norm\n",
        "\n",
        "import numpy as np\n",
        "from typing import List, Tuple\n",
        "import math\n",
        "from math import cos, sin, tan, pi\n",
        "from shapely.geometry import MultiPolygon, Polygon, Point\n",
        "from shapely.affinity import rotate\n",
        "from shapely.ops import unary_union\n",
        "\n",
        "import gymnasium as gym\n",
        "\n",
        "import tensorflow as tf\n",
        "from tensorflow import keras\n",
        "from tensorflow.keras import layers"
      ]
    },
    {
      "cell_type": "markdown",
      "metadata": {
        "id": "SiuYw_AskpyL"
      },
      "source": [
        "# First Attempt"
      ]
    },
    {
      "cell_type": "code",
      "execution_count": null,
      "metadata": {
        "id": "vqtD0zVfQDK4"
      },
      "outputs": [],
      "source": [
        "# Finds the straight-line distance between two points\n",
        "def dist(ax, ay, bx, by):\n",
        "    # return norm(np.array((ax, ay))-np.array((bx, by)))\n",
        "    return math.sqrt((by - ay)**2 + (bx - ax)**2)\n",
        "\n",
        "# Rotates point `A` about point `B` by `angle` radians clockwise.\n",
        "def rotated_about(ax, ay, bx, by, angle):\n",
        "    radius = dist(ax,ay,bx,by)\n",
        "    angle += math.atan2(ay-by, ax-bx)\n",
        "    return (\n",
        "        round(bx + radius * math.cos(angle)),\n",
        "        round(by + radius * math.sin(angle))\n",
        "    )\n"
      ]
    },
    {
      "cell_type": "code",
      "execution_count": 21,
      "metadata": {
        "colab": {
          "base_uri": "https://localhost:8080/",
          "height": 356
        },
        "id": "2hY0MMKzin9w",
        "outputId": "33e92959-3e7c-439f-b0c3-b2b20502858b"
      },
      "outputs": [
        {
          "ename": "TypeError",
          "evalue": "cannot unpack non-iterable Polygon object",
          "output_type": "error",
          "traceback": [
            "\u001b[0;31m---------------------------------------------------------------------------\u001b[0m",
            "\u001b[0;31mTypeError\u001b[0m                                 Traceback (most recent call last)",
            "Cell \u001b[0;32mIn[21], line 183\u001b[0m\n\u001b[1;32m    180\u001b[0m     \u001b[38;5;28;01mreturn\u001b[39;00m image\n\u001b[1;32m    182\u001b[0m sqs \u001b[38;5;241m=\u001b[39m convert2shapely([(random\u001b[38;5;241m.\u001b[39muniform(\u001b[38;5;241m50\u001b[39m, \u001b[38;5;241m150\u001b[39m), random\u001b[38;5;241m.\u001b[39muniform(\u001b[38;5;241m50\u001b[39m, \u001b[38;5;241m150\u001b[39m), random\u001b[38;5;241m.\u001b[39muniform(\u001b[38;5;241m1\u001b[39m, \u001b[38;5;241m2\u001b[39m\u001b[38;5;241m*\u001b[39mmath\u001b[38;5;241m.\u001b[39mpi)) \u001b[38;5;28;01mfor\u001b[39;00m i \u001b[38;5;129;01min\u001b[39;00m \u001b[38;5;28mrange\u001b[39m(\u001b[38;5;241m5\u001b[39m)])\n\u001b[0;32m--> 183\u001b[0m \u001b[43mgraphBoxes\u001b[49m\u001b[43m(\u001b[49m\u001b[43msqs\u001b[49m\u001b[43m,\u001b[49m\u001b[43m \u001b[49m\u001b[43mverbose\u001b[49m\u001b[38;5;241;43m=\u001b[39;49m\u001b[38;5;28;43;01mTrue\u001b[39;49;00m\u001b[43m)\u001b[49m\n\u001b[1;32m    184\u001b[0m     \u001b[38;5;66;03m#             polygons.remove(p)\u001b[39;00m\n\u001b[1;32m    185\u001b[0m     \u001b[38;5;66;03m#     if not overlaps:\u001b[39;00m\n\u001b[1;32m    186\u001b[0m     \u001b[38;5;66;03m#         # add the polygon to the list\u001b[39;00m\n\u001b[1;32m    187\u001b[0m     \u001b[38;5;66;03m#         polygons.append(polygon)\u001b[39;00m\n\u001b[1;32m    188\u001b[0m     \u001b[38;5;66;03m# return polygons\u001b[39;00m\n",
            "Cell \u001b[0;32mIn[21], line 139\u001b[0m, in \u001b[0;36mgraphBoxes\u001b[0;34m(squares, squareSize, verbose)\u001b[0m\n\u001b[1;32m    138\u001b[0m \u001b[38;5;28;01mdef\u001b[39;00m \u001b[38;5;21mgraphBoxes\u001b[39m(squares:List[Tuple[\u001b[38;5;124m'\u001b[39m\u001b[38;5;124mx\u001b[39m\u001b[38;5;124m'\u001b[39m,\u001b[38;5;124m'\u001b[39m\u001b[38;5;124my\u001b[39m\u001b[38;5;124m'\u001b[39m,\u001b[38;5;124m'\u001b[39m\u001b[38;5;124mrad\u001b[39m\u001b[38;5;124m'\u001b[39m]], squareSize\u001b[38;5;241m=\u001b[39m\u001b[38;5;241m20\u001b[39m, verbose\u001b[38;5;241m=\u001b[39m\u001b[38;5;28;01mFalse\u001b[39;00m):\n\u001b[0;32m--> 139\u001b[0m     \u001b[38;5;28mprint\u001b[39m(\u001b[38;5;124mf\u001b[39m\u001b[38;5;124m'\u001b[39m\u001b[38;5;124mSize is: \u001b[39m\u001b[38;5;132;01m{\u001b[39;00mget_bounding_box(\u001b[43mcompute_corners\u001b[49m\u001b[43m(\u001b[49m\u001b[43msquares\u001b[49m\u001b[43m,\u001b[49m\u001b[38;5;250;43m \u001b[39;49m\u001b[43msquareSize\u001b[49m\u001b[43m)\u001b[49m,\u001b[38;5;250m \u001b[39msquare\u001b[38;5;241m=\u001b[39m\u001b[38;5;28;01mTrue\u001b[39;00m)\u001b[38;5;132;01m:\u001b[39;00m\u001b[38;5;124m.3f\u001b[39m\u001b[38;5;132;01m}\u001b[39;00m\u001b[38;5;124m'\u001b[39m)\n\u001b[1;32m    140\u001b[0m     \u001b[38;5;28mprint\u001b[39m(\u001b[38;5;124mf\u001b[39m\u001b[38;5;124m'\u001b[39m\u001b[38;5;124mOverlapping area is: \u001b[39m\u001b[38;5;132;01m{\u001b[39;00moverlap_area(squares)\u001b[38;5;132;01m}\u001b[39;00m\u001b[38;5;124m'\u001b[39m)\n\u001b[1;32m    141\u001b[0m     \u001b[38;5;28mprint\u001b[39m(\u001b[38;5;124mf\u001b[39m\u001b[38;5;124m'\u001b[39m\u001b[38;5;124mWasted Space is: \u001b[39m\u001b[38;5;124m'\u001b[39m)\n",
            "Cell \u001b[0;32mIn[18], line 3\u001b[0m, in \u001b[0;36mcompute_corners\u001b[0;34m(squares, sideLen)\u001b[0m\n\u001b[1;32m      1\u001b[0m \u001b[38;5;28;01mdef\u001b[39;00m \u001b[38;5;21mcompute_corners\u001b[39m(squares: List[Tuple[\u001b[38;5;28mfloat\u001b[39m, \u001b[38;5;28mfloat\u001b[39m, \u001b[38;5;28mfloat\u001b[39m]], sideLen\u001b[38;5;241m=\u001b[39m\u001b[38;5;241m1\u001b[39m):\n\u001b[1;32m      2\u001b[0m     rtn \u001b[38;5;241m=\u001b[39m []\n\u001b[0;32m----> 3\u001b[0m     \u001b[38;5;28;01mfor\u001b[39;00m x, y, rot_rad \u001b[38;5;129;01min\u001b[39;00m squares:\n\u001b[1;32m      4\u001b[0m         \u001b[38;5;66;03m# Compute the coordinates of the four corners of the square\u001b[39;00m\n\u001b[1;32m      5\u001b[0m         half_side \u001b[38;5;241m=\u001b[39m sideLen \u001b[38;5;241m/\u001b[39m \u001b[38;5;241m2\u001b[39m\n\u001b[1;32m      6\u001b[0m         corners \u001b[38;5;241m=\u001b[39m [(half_side, half_side), (half_side, \u001b[38;5;241m-\u001b[39mhalf_side), (\u001b[38;5;241m-\u001b[39mhalf_side, \u001b[38;5;241m-\u001b[39mhalf_side), (\u001b[38;5;241m-\u001b[39mhalf_side, half_side)]\n",
            "\u001b[0;31mTypeError\u001b[0m: cannot unpack non-iterable Polygon object"
          ]
        }
      ],
      "source": [
        "\n",
        "# Credit for this function goes to ChatGPT\n",
        "'''\n",
        "def overlap_area(squares: List[Tuple[float, float, float]]) -> float:\n",
        "    # Create a dictionary to keep track of the number of squares overlapping each point\n",
        "    overlap_counts = {}\n",
        "\n",
        "    for rotated_corners in compute_corners(squares):\n",
        "        # Add 1 to the overlap count for each point that this square covers\n",
        "        for i in range(len(rotated_corners)):\n",
        "            p1, p2 = rotated_corners[i], rotated_corners[(i+1)%len(rotated_corners)]\n",
        "            for x in range(math.ceil(min(p1[0], p2[0])), math.floor(max(p1[0], p2[0]))):\n",
        "                for y in range(math.ceil(min(p1[1], p2[1])), math.floor(max(p1[1], p2[1]))):\n",
        "                    if (x, y) in overlap_counts:\n",
        "                        overlap_counts[(x, y)] += 1\n",
        "                    else:\n",
        "                        overlap_counts[(x, y)] = 1\n",
        "\n",
        "    # Compute the total area of overlap by summing the area of each overlapping square\n",
        "    overlap_area = 0\n",
        "    for count in overlap_counts.values():\n",
        "        if count > 1:\n",
        "            overlap_area += 1\n",
        "\n",
        "    return overlap_area\n",
        " '''\n",
        "'''\n",
        "def compute_intersection(p1, q1, p2, q2):\n",
        "    x1, y1 = p1\n",
        "    x2, y2 = q1\n",
        "    x3, y3 = p2\n",
        "    x4, y4 = q2\n",
        "\n",
        "    denom = (y4-y3)*(x2-x1) - (x4-x3)*(y2-y1)\n",
        "    if denom == 0:\n",
        "        return None\n",
        "    ua = ((x4-x3)*(y1-y3) - (y4-y3)*(x1-x3)) / denom\n",
        "    ub = ((x2-x1)*(y1-y3) - (y2-y1)*(x1-x3)) / denom\n",
        "\n",
        "    if 0 <= ua <= 1 and 0 <= ub <= 1:\n",
        "        return (x1 + ua*(x2-x1), y1 + ua*(y2-y1))\n",
        "    else:\n",
        "        return None\n",
        "\n",
        "\n",
        "def overlap_area(squares: List[Tuple[float, float, float]]) -> float:\n",
        "    # Create a set to keep track of all the overlapping points\n",
        "    overlap_points = set()\n",
        "\n",
        "    # Iterate over all pairs of squares\n",
        "    for i in range(len(squares)):\n",
        "        for j in range(i+1, len(squares)):\n",
        "            # Compute the corners of each square\n",
        "            corners_i = compute_corners([squares[i]])[0]\n",
        "            corners_j = compute_corners([squares[j]])[0]\n",
        "\n",
        "            # Iterate over all pairs of edges\n",
        "            for k in range(len(corners_i)):\n",
        "                for l in range(len(corners_j)):\n",
        "                    # Compute the intersection point of the edges\n",
        "                    p = compute_intersection(corners_i[k], corners_i[(k+1)%len(corners_i)], corners_j[l], corners_j[(l+1)%len(corners_j)])\n",
        "                    if p is not None:\n",
        "                        overlap_points.add(p)\n",
        "\n",
        "    # Compute the total area of overlap as the sum of the areas of the triangles formed by each set of three adjacent points\n",
        "    overlap_area = 0\n",
        "    overlap_points = sorted(list(overlap_points))\n",
        "    for i in range(1, len(overlap_points)-1):\n",
        "        a, b, c = overlap_points[i-1], overlap_points[i], overlap_points[i+1]\n",
        "        overlap_area += abs((b[0]-a[0])*(c[1]-a[1]) - (c[0]-a[0])*(b[1]-a[1]))/2\n",
        "\n",
        "    return overlap_area\n",
        " '''\n",
        "from shapely.geometry import Polygon, MultiPolygon\n",
        "'''\n",
        "def get_overlapping_polygons(squares: List[Tuple[float, float, float]]) -> List[Polygon]:\n",
        "    polygons = []\n",
        "    for square in squares:\n",
        "        x, y, rad = square\n",
        "        # calculate the coordinates of the four corners of the square\n",
        "        p1 = (x + 0.5 * cos(rad - pi / 4), y + 0.5 * sin(rad - pi / 4))\n",
        "        p2 = (x + 0.5 * cos(rad + pi / 4), y + 0.5 * sin(rad + pi / 4))\n",
        "        p3 = (x + 0.5 * cos(rad + 3 * pi / 4), y + 0.5 * sin(rad + 3 * pi / 4))\n",
        "        p4 = (x + 0.5 * cos(rad - 3 * pi / 4), y + 0.5 * sin(rad - 3 * pi / 4))\n",
        "        # create a polygon from the four corners\n",
        "        polygon = Polygon([p1, p2, p3, p4])\n",
        "        # check if this polygon overlaps with any of the previously created polygons\n",
        "        overlaps = False\n",
        "        for p in polygons:\n",
        "            if polygon.intersects(p):\n",
        "                overlaps = True\n",
        "                # merge the overlapping polygons\n",
        "                polygon = polygon.union(p)\n",
        "                polygons.remove(p)\n",
        "        if not overlaps:\n",
        "            # add the polygon to the list\n",
        "            polygons.append(polygon)\n",
        "    return polygons\n",
        " '''\n",
        "\n",
        "def convert2shapely(squares:List[Tuple[float, float, float]], side_len:float=1.0) -> List[Polygon]:\n",
        "    return [Polygon(corners) for corners in compute_corners(squares, sideLen=side_len)]\n",
        "\n",
        "def get_overlapping_polygons(squares: List[Tuple[float, float, float]], side_len: float = 1.0) -> List[Polygon]:\n",
        "    overlap = []\n",
        "    squares = convert2shapely(squares)\n",
        "    for p1 in squares:\n",
        "        for p2 in squares:\n",
        "            if p1 == p2:\n",
        "                continue\n",
        "            if p1.intersects(p2):\n",
        "                print('Intersection detected')\n",
        "                overlap.append(p1.union(p2))\n",
        "    return overlap\n",
        "\n",
        "    # for x, y, rad in squares:\n",
        "    #     # compute the corners of the square based on its center and orientation\n",
        "    #     corners = compute_corners([square], side_len)[0]\n",
        "    #     # create a polygon from the corners\n",
        "    #     polygon = Polygon(corners)\n",
        "    #     # check if this polygon overlaps with any of the previously created polygons\n",
        "    #     overlaps = False\n",
        "    #     for p in polygons:\n",
        "    #         if polygon.intersects(p):\n",
        "    #             overlaps = True\n",
        "    #             # merge the overlapping polygons\n",
        "    #             polygon = polygon.union(p)def drawBox(draw, x, y, rot, sideLen):\n",
        "    square_vertices = (\n",
        "        (x + sideLen / 2, y + sideLen / 2),\n",
        "        (x + sideLen / 2, y - sideLen / 2),\n",
        "        (x - sideLen / 2, y - sideLen / 2),\n",
        "        (x - sideLen / 2, y + sideLen / 2)\n",
        "    )\n",
        "\n",
        "    square_vertices = [rotated_about(_x, _y, x, y, rot) for _x, _y in square_vertices]\n",
        "    draw.polygon(square_vertices, fill='#FF7B00')\n",
        "\n",
        "\n",
        "def graphBoxes(squares:List[Tuple['x','y','rad']], squareSize=20, verbose=False):\n",
        "    print(f'Size is: {get_bounding_box(compute_corners(squares, squareSize), square=True):.3f}')\n",
        "    print(f'Overlapping area is: {overlap_area(squares)}')\n",
        "    print(f'Wasted Space is: ')\n",
        "\n",
        "    # Create image\n",
        "    image = Image.new(\"RGB\", (200, 200), \"white\")\n",
        "    draw = ImageDraw.Draw(image)\n",
        "\n",
        "    # Do some calculations\n",
        "    corners = compute_corners(squares, squareSize)\n",
        "    cornersX, cornersY = np.array(corners).T\n",
        "    bottomRight = cornersX.max(), cornersY.max()\n",
        "    topLeft = cornersX.min(), cornersY.min()\n",
        "\n",
        "    # Draw all the boxes\n",
        "    for x, y, rad in squares:\n",
        "        drawBox(draw, x, y, rad, squareSize)\n",
        "\n",
        "    if verbose:\n",
        "        # Draw the corners\n",
        "        for x, y in flatten(corners, levels=1):\n",
        "            draw.ellipse((x-2, y-2, x+2, y+2), fill='#3DAEE9')\n",
        "\n",
        "        # Draw the bounding box corners\n",
        "        for x, y in (topLeft, bottomRight):\n",
        "            draw.ellipse((x-2, y-2, x+2, y+2), fill='#F4C02C')\n",
        "\n",
        "        # Draw bounding box\n",
        "        w, h = get_bounding_box(corners, square=False)\n",
        "        draw.rectangle((topLeft, (topLeft[0]+w, topLeft[1]+h)), outline='#383838')\n",
        "\n",
        "        # Draw bounding square\n",
        "        w = get_bounding_box(corners, square=True)\n",
        "        draw.rectangle((topLeft, (topLeft[0]+w, topLeft[1]+w)), outline='#8399A4')\n",
        "\n",
        "        # Draw the overlapping areas\n",
        "        for polygon in get_overlapping_polygons(squares, side_len=squareSize):\n",
        "            vertices = polygon.exterior.coords\n",
        "            # draw the polygon using the polygon method\n",
        "            draw.polygon(vertices, fill=(255, 0, 0, 128), outline=(255, 0, 0, 255))\n",
        "\n",
        "    return image\n",
        "\n",
        "sqs = convert2shapely([(random.uniform(50, 150), random.uniform(50, 150), random.uniform(1, 2*math.pi)) for i in range(5)])\n",
        "graphBoxes(sqs, verbose=True)\n",
        "    #             polygons.remove(p)\n",
        "    #     if not overlaps:\n",
        "    #         # add the polygon to the list\n",
        "    #         polygons.append(polygon)\n",
        "    # return polygons"
      ]
    },
    {
      "cell_type": "code",
      "execution_count": null,
      "metadata": {
        "id": "2BT9jY5GzrO3"
      },
      "outputs": [],
      "source": [
        "# convert2shapely([(random.uniform(50, 150), random.uniform(50, 150), random.uniform(1, 2*math.pi)) for i in range(4)])[0]"
      ]
    },
    {
      "cell_type": "code",
      "execution_count": 3,
      "metadata": {
        "id": "QE9yXuSvkiWa"
      },
      "outputs": [],
      "source": [
        "def get_bounding_box(corners, square=False):\n",
        "    x, y = np.array(corners).T\n",
        "    if square:\n",
        "        return max(x.max() - x.min(), y.max() - y.min())\n",
        "    else:\n",
        "        return x.max() - x.min(), y.max() - y.min()\n"
      ]
    },
    {
      "cell_type": "code",
      "execution_count": 19,
      "metadata": {
        "id": "s9pGIF6tM-uw"
      },
      "outputs": [
        {
          "ename": "TypeError",
          "evalue": "cannot unpack non-iterable Polygon object",
          "output_type": "error",
          "traceback": [
            "\u001b[0;31m---------------------------------------------------------------------------\u001b[0m",
            "\u001b[0;31mTypeError\u001b[0m                                 Traceback (most recent call last)",
            "Cell \u001b[0;32mIn[19], line 58\u001b[0m\n\u001b[1;32m     55\u001b[0m     \u001b[38;5;28;01mreturn\u001b[39;00m image\n\u001b[1;32m     57\u001b[0m sqs \u001b[38;5;241m=\u001b[39m convert2shapely([(random\u001b[38;5;241m.\u001b[39muniform(\u001b[38;5;241m50\u001b[39m, \u001b[38;5;241m150\u001b[39m), random\u001b[38;5;241m.\u001b[39muniform(\u001b[38;5;241m50\u001b[39m, \u001b[38;5;241m150\u001b[39m), random\u001b[38;5;241m.\u001b[39muniform(\u001b[38;5;241m1\u001b[39m, \u001b[38;5;241m2\u001b[39m\u001b[38;5;241m*\u001b[39mmath\u001b[38;5;241m.\u001b[39mpi)) \u001b[38;5;28;01mfor\u001b[39;00m i \u001b[38;5;129;01min\u001b[39;00m \u001b[38;5;28mrange\u001b[39m(\u001b[38;5;241m5\u001b[39m)], side_len\u001b[38;5;241m=\u001b[39m\u001b[38;5;241m20\u001b[39m)\n\u001b[0;32m---> 58\u001b[0m \u001b[43mgraphBoxes\u001b[49m\u001b[43m(\u001b[49m\u001b[43msqs\u001b[49m\u001b[43m,\u001b[49m\u001b[43m \u001b[49m\u001b[43mverbose\u001b[49m\u001b[38;5;241;43m=\u001b[39;49m\u001b[38;5;28;43;01mTrue\u001b[39;49;00m\u001b[43m)\u001b[49m\n",
            "Cell \u001b[0;32mIn[19], line 14\u001b[0m, in \u001b[0;36mgraphBoxes\u001b[0;34m(squares, squareSize, verbose)\u001b[0m\n\u001b[1;32m     13\u001b[0m \u001b[38;5;28;01mdef\u001b[39;00m \u001b[38;5;21mgraphBoxes\u001b[39m(squares:MultiPolygon, squareSize\u001b[38;5;241m=\u001b[39m\u001b[38;5;241m20\u001b[39m, verbose\u001b[38;5;241m=\u001b[39m\u001b[38;5;28;01mFalse\u001b[39;00m):\n\u001b[0;32m---> 14\u001b[0m     \u001b[38;5;28mprint\u001b[39m(\u001b[38;5;124mf\u001b[39m\u001b[38;5;124m'\u001b[39m\u001b[38;5;124mSize is: \u001b[39m\u001b[38;5;132;01m{\u001b[39;00mget_bounding_box(\u001b[43mcompute_corners\u001b[49m\u001b[43m(\u001b[49m\u001b[43msquares\u001b[49m\u001b[43m,\u001b[49m\u001b[38;5;250;43m \u001b[39;49m\u001b[43msquareSize\u001b[49m\u001b[43m)\u001b[49m,\u001b[38;5;250m \u001b[39msquare\u001b[38;5;241m=\u001b[39m\u001b[38;5;28;01mTrue\u001b[39;00m)\u001b[38;5;132;01m:\u001b[39;00m\u001b[38;5;124m.3f\u001b[39m\u001b[38;5;132;01m}\u001b[39;00m\u001b[38;5;124m'\u001b[39m)\n\u001b[1;32m     15\u001b[0m     \u001b[38;5;28mprint\u001b[39m(\u001b[38;5;124mf\u001b[39m\u001b[38;5;124m'\u001b[39m\u001b[38;5;124mOverlapping area is: \u001b[39m\u001b[38;5;132;01m{\u001b[39;00moverlap_area(squares)\u001b[38;5;132;01m}\u001b[39;00m\u001b[38;5;124m'\u001b[39m)\n\u001b[1;32m     16\u001b[0m     \u001b[38;5;28mprint\u001b[39m(\u001b[38;5;124mf\u001b[39m\u001b[38;5;124m'\u001b[39m\u001b[38;5;124mWasted Space is: \u001b[39m\u001b[38;5;124m'\u001b[39m)\n",
            "Cell \u001b[0;32mIn[18], line 3\u001b[0m, in \u001b[0;36mcompute_corners\u001b[0;34m(squares, sideLen)\u001b[0m\n\u001b[1;32m      1\u001b[0m \u001b[38;5;28;01mdef\u001b[39;00m \u001b[38;5;21mcompute_corners\u001b[39m(squares: List[Tuple[\u001b[38;5;28mfloat\u001b[39m, \u001b[38;5;28mfloat\u001b[39m, \u001b[38;5;28mfloat\u001b[39m]], sideLen\u001b[38;5;241m=\u001b[39m\u001b[38;5;241m1\u001b[39m):\n\u001b[1;32m      2\u001b[0m     rtn \u001b[38;5;241m=\u001b[39m []\n\u001b[0;32m----> 3\u001b[0m     \u001b[38;5;28;01mfor\u001b[39;00m x, y, rot_rad \u001b[38;5;129;01min\u001b[39;00m squares:\n\u001b[1;32m      4\u001b[0m         \u001b[38;5;66;03m# Compute the coordinates of the four corners of the square\u001b[39;00m\n\u001b[1;32m      5\u001b[0m         half_side \u001b[38;5;241m=\u001b[39m sideLen \u001b[38;5;241m/\u001b[39m \u001b[38;5;241m2\u001b[39m\n\u001b[1;32m      6\u001b[0m         corners \u001b[38;5;241m=\u001b[39m [(half_side, half_side), (half_side, \u001b[38;5;241m-\u001b[39mhalf_side), (\u001b[38;5;241m-\u001b[39mhalf_side, \u001b[38;5;241m-\u001b[39mhalf_side), (\u001b[38;5;241m-\u001b[39mhalf_side, half_side)]\n",
            "\u001b[0;31mTypeError\u001b[0m: cannot unpack non-iterable Polygon object"
          ]
        }
      ],
      "source": [
        "def drawBox(draw, polygon):\n",
        "    square_vertices = (\n",
        "        (x + sideLen / 2, y + sideLen / 2),\n",
        "        (x + sideLen / 2, y - sideLen / 2),\n",
        "        (x - sideLen / 2, y - sideLen / 2),\n",
        "        (x - sideLen / 2, y + sideLen / 2)\n",
        "    )\n",
        "\n",
        "    square_vertices = [rotated_about(_x, _y, x, y, rot) for _x, _y in square_vertices]\n",
        "    draw.polygon(polygon.exterior.coords, fill='#FF7B00')\n",
        "\n",
        "\n",
        "def graphBoxes(squares:MultiPolygon, squareSize=20, verbose=False):\n",
        "    print(f'Size is: {get_bounding_box(compute_corners(squares, squareSize), square=True):.3f}')\n",
        "    print(f'Overlapping area is: {overlap_area(squares)}')\n",
        "    print(f'Wasted Space is: ')\n",
        "\n",
        "    # Create image\n",
        "    image = Image.new(\"RGB\", (200, 200), \"white\")\n",
        "    draw = ImageDraw.Draw(image)\n",
        "\n",
        "    # Do some calculations\n",
        "    corners = compute_corners(squares, squareSize)\n",
        "    cornersX, cornersY = np.array(corners).T\n",
        "    bottomRight = cornersX.max(), cornersY.max()\n",
        "    topLeft = cornersX.min(), cornersY.min()\n",
        "\n",
        "    # Draw all the boxes\n",
        "    for x, y, rad in squares:\n",
        "        drawBox(draw, x, y, rad, squareSize)\n",
        "\n",
        "    if verbose:\n",
        "        # Draw the corners\n",
        "        for x, y in flatten(corners, levels=1):\n",
        "            draw.ellipse((x-2, y-2, x+2, y+2), fill='#3DAEE9')\n",
        "\n",
        "        # Draw the bounding box corners\n",
        "        for x, y in (topLeft, bottomRight):\n",
        "            draw.ellipse((x-2, y-2, x+2, y+2), fill='#F4C02C')\n",
        "\n",
        "        # Draw bounding box\n",
        "        w, h = get_bounding_box(corners, square=False)\n",
        "        draw.rectangle((topLeft, (topLeft[0]+w, topLeft[1]+h)), outline='#383838')\n",
        "\n",
        "        # Draw bounding square\n",
        "        w = get_bounding_box(corners, square=True)\n",
        "        draw.rectangle((topLeft, (topLeft[0]+w, topLeft[1]+w)), outline='#8399A4')\n",
        "\n",
        "        # Draw the overlapping areas\n",
        "        for polygon in get_overlapping_polygons(squares, side_len=squareSize):\n",
        "            vertices = polygon.exterior.coords\n",
        "            # draw the polygon using the polygon method\n",
        "            draw.polygon(vertices, fill=(255, 0, 0, 128), outline=(255, 0, 0, 255))\n",
        "\n",
        "    return image\n",
        "\n",
        "sqs = convert2shapely([(random.uniform(50, 150), random.uniform(50, 150), random.uniform(1, 2*math.pi)) for i in range(5)], side_len=20)\n",
        "graphBoxes(sqs, verbose=True)"
      ]
    },
    {
      "cell_type": "code",
      "execution_count": 5,
      "metadata": {
        "id": "aD24OBGf0bWW"
      },
      "outputs": [
        {
          "ename": "NameError",
          "evalue": "name 'compute_corners' is not defined",
          "output_type": "error",
          "traceback": [
            "\u001b[0;31m---------------------------------------------------------------------------\u001b[0m",
            "\u001b[0;31mNameError\u001b[0m                                 Traceback (most recent call last)",
            "Cell \u001b[0;32mIn[5], line 58\u001b[0m\n\u001b[1;32m     55\u001b[0m     \u001b[38;5;28;01mreturn\u001b[39;00m image\n\u001b[1;32m     57\u001b[0m sqs \u001b[38;5;241m=\u001b[39m [(random\u001b[38;5;241m.\u001b[39muniform(\u001b[38;5;241m50\u001b[39m, \u001b[38;5;241m150\u001b[39m), random\u001b[38;5;241m.\u001b[39muniform(\u001b[38;5;241m50\u001b[39m, \u001b[38;5;241m150\u001b[39m), random\u001b[38;5;241m.\u001b[39muniform(\u001b[38;5;241m1\u001b[39m, \u001b[38;5;241m2\u001b[39m\u001b[38;5;241m*\u001b[39mmath\u001b[38;5;241m.\u001b[39mpi)) \u001b[38;5;28;01mfor\u001b[39;00m i \u001b[38;5;129;01min\u001b[39;00m \u001b[38;5;28mrange\u001b[39m(\u001b[38;5;241m5\u001b[39m)]\n\u001b[0;32m---> 58\u001b[0m \u001b[43mgraphBoxes\u001b[49m\u001b[43m(\u001b[49m\u001b[43msqs\u001b[49m\u001b[43m,\u001b[49m\u001b[43m \u001b[49m\u001b[43mverbose\u001b[49m\u001b[38;5;241;43m=\u001b[39;49m\u001b[38;5;28;43;01mTrue\u001b[39;49;00m\u001b[43m)\u001b[49m\n",
            "Cell \u001b[0;32mIn[5], line 14\u001b[0m, in \u001b[0;36mgraphBoxes\u001b[0;34m(squares, squareSize, verbose)\u001b[0m\n\u001b[1;32m     13\u001b[0m \u001b[38;5;28;01mdef\u001b[39;00m \u001b[38;5;21mgraphBoxes\u001b[39m(squares:List[Tuple[\u001b[38;5;124m'\u001b[39m\u001b[38;5;124mx\u001b[39m\u001b[38;5;124m'\u001b[39m,\u001b[38;5;124m'\u001b[39m\u001b[38;5;124my\u001b[39m\u001b[38;5;124m'\u001b[39m,\u001b[38;5;124m'\u001b[39m\u001b[38;5;124mrad\u001b[39m\u001b[38;5;124m'\u001b[39m]], squareSize\u001b[38;5;241m=\u001b[39m\u001b[38;5;241m20\u001b[39m, verbose\u001b[38;5;241m=\u001b[39m\u001b[38;5;28;01mFalse\u001b[39;00m):\n\u001b[0;32m---> 14\u001b[0m     \u001b[38;5;28mprint\u001b[39m(\u001b[38;5;124mf\u001b[39m\u001b[38;5;124m'\u001b[39m\u001b[38;5;124mSize is: \u001b[39m\u001b[38;5;132;01m{\u001b[39;00mget_bounding_box(\u001b[43mcompute_corners\u001b[49m(squares,\u001b[38;5;250m \u001b[39msquareSize),\u001b[38;5;250m \u001b[39msquare\u001b[38;5;241m=\u001b[39m\u001b[38;5;28;01mTrue\u001b[39;00m)\u001b[38;5;132;01m:\u001b[39;00m\u001b[38;5;124m.3f\u001b[39m\u001b[38;5;132;01m}\u001b[39;00m\u001b[38;5;124m'\u001b[39m)\n\u001b[1;32m     15\u001b[0m     \u001b[38;5;28mprint\u001b[39m(\u001b[38;5;124mf\u001b[39m\u001b[38;5;124m'\u001b[39m\u001b[38;5;124mOverlapping area is: \u001b[39m\u001b[38;5;132;01m{\u001b[39;00moverlap_area(squares)\u001b[38;5;132;01m}\u001b[39;00m\u001b[38;5;124m'\u001b[39m)\n\u001b[1;32m     16\u001b[0m     \u001b[38;5;28mprint\u001b[39m(\u001b[38;5;124mf\u001b[39m\u001b[38;5;124m'\u001b[39m\u001b[38;5;124mWasted Space is: \u001b[39m\u001b[38;5;124m'\u001b[39m)\n",
            "\u001b[0;31mNameError\u001b[0m: name 'compute_corners' is not defined"
          ]
        }
      ],
      "source": [
        "def drawBox(draw, x, y, rot, sideLen):\n",
        "    square_vertices = (\n",
        "        (x + sideLen / 2, y + sideLen / 2),\n",
        "        (x + sideLen / 2, y - sideLen / 2),\n",
        "        (x - sideLen / 2, y - sideLen / 2),\n",
        "        (x - sideLen / 2, y + sideLen / 2)\n",
        "    )\n",
        "\n",
        "    square_vertices = [rotated_about(_x, _y, x, y, rot) for _x, _y in square_vertices]\n",
        "    draw.polygon(square_vertices, fill='#FF7B00')\n",
        "\n",
        "\n",
        "def graphBoxes(squares:List[Tuple['x','y','rad']], squareSize=20, verbose=False):\n",
        "    print(f'Size is: {get_bounding_box(compute_corners(squares, squareSize), square=True):.3f}')\n",
        "    print(f'Overlapping area is: {overlap_area(squares)}')\n",
        "    print(f'Wasted Space is: ')\n",
        "\n",
        "    # Create image\n",
        "    image = Image.new(\"RGB\", (200, 200), \"white\")\n",
        "    draw = ImageDraw.Draw(image)\n",
        "\n",
        "    # Do some calculations\n",
        "    corners = compute_corners(squares, squareSize)\n",
        "    cornersX, cornersY = np.array(corners).T\n",
        "    bottomRight = cornersX.max(), cornersY.max()\n",
        "    topLeft = cornersX.min(), cornersY.min()\n",
        "\n",
        "    # Draw all the boxes\n",
        "    for x, y, rad in squares:\n",
        "        drawBox(draw, x, y, rad, squareSize)\n",
        "\n",
        "    if verbose:\n",
        "        # Draw the corners\n",
        "        for x, y in flatten(corners, levels=1):\n",
        "            draw.ellipse((x-2, y-2, x+2, y+2), fill='#3DAEE9')\n",
        "\n",
        "        # Draw the bounding box corners\n",
        "        for x, y in (topLeft, bottomRight):\n",
        "            draw.ellipse((x-2, y-2, x+2, y+2), fill='#F4C02C')\n",
        "\n",
        "        # Draw bounding box\n",
        "        w, h = get_bounding_box(corners, square=False)\n",
        "        draw.rectangle((topLeft, (topLeft[0]+w, topLeft[1]+h)), outline='#383838')\n",
        "\n",
        "        # Draw bounding square\n",
        "        w = get_bounding_box(corners, square=True)\n",
        "        draw.rectangle((topLeft, (topLeft[0]+w, topLeft[1]+w)), outline='#8399A4')\n",
        "\n",
        "        # Draw the overlapping areas\n",
        "        for polygon in get_overlapping_polygons(squares, side_len=squareSize):\n",
        "            vertices = polygon.exterior.coords\n",
        "            # draw the polygon using the polygon method\n",
        "            draw.polygon(vertices, fill=(255, 0, 0, 128), outline=(255, 0, 0, 255))\n",
        "\n",
        "    return image\n",
        "\n",
        "sqs = [(random.uniform(50, 150), random.uniform(50, 150), random.uniform(1, 2*math.pi)) for i in range(5)]\n",
        "graphBoxes(sqs, verbose=True)"
      ]
    },
    {
      "cell_type": "markdown",
      "metadata": {
        "id": "UGIM7Tv7kUvV"
      },
      "source": [
        "# Setting up the loss function"
      ]
    },
    {
      "cell_type": "code",
      "execution_count": 18,
      "metadata": {
        "id": "mlQI8Ar1j4al"
      },
      "outputs": [],
      "source": [
        "def compute_corners(squares: List[Tuple[float, float, float]], sideLen=1):\n",
        "    rtn = []\n",
        "    for x, y, rot_rad in squares:\n",
        "        # Compute the coordinates of the four corners of the square\n",
        "        half_side = sideLen / 2\n",
        "        corners = [(half_side, half_side), (half_side, -half_side), (-half_side, -half_side), (-half_side, half_side)]\n",
        "        rotated_corners = []\n",
        "        for corner in corners:\n",
        "            rotated_x = x + corner[0]*math.cos(rot_rad) - corner[1]*math.sin(rot_rad)\n",
        "            rotated_y = y + corner[0]*math.sin(rot_rad) + corner[1]*math.cos(rot_rad)\n",
        "            rotated_corners.append((rotated_x, rotated_y))\n",
        "        rtn.append(rotated_corners)\n",
        "    return rtn"
      ]
    },
    {
      "cell_type": "code",
      "execution_count": 6,
      "metadata": {
        "id": "Q0Cxf9l_j7Ho"
      },
      "outputs": [],
      "source": [
        "def overlap_area(multi):\n",
        "    overlapArea = 0\n",
        "    for i, square1 in enumerate(multi.geoms):\n",
        "        for square2 in list(multi.geoms)[i+1:]:\n",
        "            if square1.intersects(square2):\n",
        "                overlapArea += square1.intersection(square2).area\n",
        "    return overlapArea\n",
        "\n",
        "def side_len(polygon):\n",
        "    x, y = polygon.minimum_rotated_rectangle.exterior.coords.xy\n",
        "    edge_length = (Point(x[0], y[0]).distance(Point(x[1], y[1])), Point(x[1], y[1]).distance(Point(x[2], y[2])))\n",
        "    return max(edge_length)\n",
        "\n",
        "def wasted_space(multi):\n",
        "    side = side_len(multi)\n",
        "    return side**2 - multi.area"
      ]
    },
    {
      "cell_type": "code",
      "execution_count": 7,
      "metadata": {
        "id": "MBI8TpPmpVkZ"
      },
      "outputs": [],
      "source": [
        "def lossFunc(squares:MultiPolygon):\n",
        "    score = 0\n",
        "    if not squares.is_valid:\n",
        "        # We don't like it when they overlap at all\n",
        "        score -= 1000\n",
        "        # We don't like it when they overlap a lot\n",
        "        score -= math.e**overlap_area(squares)\n",
        "\n",
        "    score -= wasted_space(squares)\n",
        "    score -= side_len(squares)\n",
        "    return score"
      ]
    },
    {
      "cell_type": "code",
      "execution_count": 8,
      "metadata": {
        "id": "ni0FwLQKpDwU"
      },
      "outputs": [],
      "source": [
        "N=11\n",
        "verbose = True\n",
        "scale = 1\n",
        "space = N*scale # Optimal: 3.789, best known: 3.877084\n",
        "seed = 42"
      ]
    },
    {
      "cell_type": "code",
      "execution_count": 15,
      "metadata": {
        "colab": {
          "base_uri": "https://localhost:8080/",
          "height": 208
        },
        "id": "IvzVoVQm2mzu",
        "outputId": "b5bdbd63-e634-4a9b-d43f-4e3f854084fe"
      },
      "outputs": [
        {
          "ename": "NameError",
          "evalue": "name 'compute_corners' is not defined",
          "output_type": "error",
          "traceback": [
            "\u001b[0;31m---------------------------------------------------------------------------\u001b[0m",
            "\u001b[0;31mNameError\u001b[0m                                 Traceback (most recent call last)",
            "Cell \u001b[0;32mIn[15], line 3\u001b[0m\n\u001b[1;32m      1\u001b[0m \u001b[38;5;66;03m# This is useful. I don't know *how*, but it's got to be somehow\u001b[39;00m\n\u001b[1;32m      2\u001b[0m \u001b[38;5;66;03m# squares.convex_hull\u001b[39;00m\n\u001b[0;32m----> 3\u001b[0m squares \u001b[38;5;241m=\u001b[39m MultiPolygon(\u001b[43mconvert2shapely\u001b[49m\u001b[43m(\u001b[49m\u001b[43m[\u001b[49m\u001b[43m(\u001b[49m\u001b[43mrandom\u001b[49m\u001b[38;5;241;43m.\u001b[39;49m\u001b[43muniform\u001b[49m\u001b[43m(\u001b[49m\u001b[38;5;241;43m0\u001b[39;49m\u001b[43m,\u001b[49m\u001b[43m \u001b[49m\u001b[43mspace\u001b[49m\u001b[43m)\u001b[49m\u001b[43m,\u001b[49m\u001b[43m \u001b[49m\u001b[43mrandom\u001b[49m\u001b[38;5;241;43m.\u001b[39;49m\u001b[43muniform\u001b[49m\u001b[43m(\u001b[49m\u001b[38;5;241;43m0\u001b[39;49m\u001b[43m,\u001b[49m\u001b[43m \u001b[49m\u001b[43mspace\u001b[49m\u001b[43m)\u001b[49m\u001b[43m,\u001b[49m\u001b[43m \u001b[49m\u001b[43mrandom\u001b[49m\u001b[38;5;241;43m.\u001b[39;49m\u001b[43muniform\u001b[49m\u001b[43m(\u001b[49m\u001b[38;5;241;43m1\u001b[39;49m\u001b[43m,\u001b[49m\u001b[43m \u001b[49m\u001b[38;5;241;43m2\u001b[39;49m\u001b[38;5;241;43m*\u001b[39;49m\u001b[43mmath\u001b[49m\u001b[38;5;241;43m.\u001b[39;49m\u001b[43mpi\u001b[49m\u001b[43m)\u001b[49m\u001b[43m)\u001b[49m\u001b[43m \u001b[49m\u001b[38;5;28;43;01mfor\u001b[39;49;00m\u001b[43m \u001b[49m\u001b[43mi\u001b[49m\u001b[43m \u001b[49m\u001b[38;5;129;43;01min\u001b[39;49;00m\u001b[43m \u001b[49m\u001b[38;5;28;43mrange\u001b[39;49m\u001b[43m(\u001b[49m\u001b[43mN\u001b[49m\u001b[43m)\u001b[49m\u001b[43m]\u001b[49m\u001b[43m,\u001b[49m\u001b[43m \u001b[49m\u001b[43mside_len\u001b[49m\u001b[38;5;241;43m=\u001b[39;49m\u001b[43mscale\u001b[49m\u001b[43m)\u001b[49m)\n\u001b[1;32m      5\u001b[0m \u001b[38;5;28;01mif\u001b[39;00m verbose:\n\u001b[1;32m      6\u001b[0m     display(unary_union((squares, squares\u001b[38;5;241m.\u001b[39mminimum_rotated_rectangle\u001b[38;5;241m.\u001b[39mexterior)))\n",
            "Cell \u001b[0;32mIn[2], line 101\u001b[0m, in \u001b[0;36mconvert2shapely\u001b[0;34m(squares, side_len)\u001b[0m\n\u001b[1;32m    100\u001b[0m \u001b[38;5;28;01mdef\u001b[39;00m \u001b[38;5;21mconvert2shapely\u001b[39m(squares:List[Tuple[\u001b[38;5;28mfloat\u001b[39m, \u001b[38;5;28mfloat\u001b[39m, \u001b[38;5;28mfloat\u001b[39m]], side_len:\u001b[38;5;28mfloat\u001b[39m\u001b[38;5;241m=\u001b[39m\u001b[38;5;241m1.0\u001b[39m) \u001b[38;5;241m-\u001b[39m\u001b[38;5;241m>\u001b[39m List[Polygon]:\n\u001b[0;32m--> 101\u001b[0m     \u001b[38;5;28;01mreturn\u001b[39;00m [Polygon(corners) \u001b[38;5;28;01mfor\u001b[39;00m corners \u001b[38;5;129;01min\u001b[39;00m \u001b[43mcompute_corners\u001b[49m(squares, sideLen\u001b[38;5;241m=\u001b[39mside_len)]\n",
            "\u001b[0;31mNameError\u001b[0m: name 'compute_corners' is not defined"
          ]
        }
      ],
      "source": [
        "# This is useful. I don't know *how*, but it's got to be somehow\n",
        "# squares.convex_hull\n",
        "squares = MultiPolygon(convert2shapely([(random.uniform(0, space), random.uniform(0, space), random.uniform(1, 2*math.pi)) for i in range(N)], side_len=scale))\n",
        "\n",
        "if verbose:\n",
        "    display(unary_union((squares, squares.minimum_rotated_rectangle.exterior)))\n",
        "else:\n",
        "    display(squares)\n",
        "\n",
        "print(f'Overlaps: {not squares.is_valid}')\n",
        "print(f'Overlap Area: {overlap_area(squares):.3f}')\n",
        "print(f'Side Length: {side_len(squares):.3f}')\n",
        "print(f'Wasted Space: {wasted_space(squares):.2f}')\n",
        "print(f'Loss: {lossFunc(squares)}')\n"
      ]
    },
    {
      "cell_type": "code",
      "execution_count": 30,
      "metadata": {},
      "outputs": [
        {
          "data": {
            "image/svg+xml": [
              "<svg xmlns=\"http://www.w3.org/2000/svg\" xmlns:xlink=\"http://www.w3.org/1999/xlink\" width=\"100.0\" height=\"100.0\" viewBox=\"-0.9335471571287186 -0.738647264278315 12.877504550640133 11.615597055239965\" preserveAspectRatio=\"xMinYMin meet\"><g transform=\"matrix(1,0,0,-1,0,10.138302526683335)\"><g><path fill-rule=\"evenodd\" fill=\"#ff3333\" stroke=\"#555555\" stroke-width=\"0.25755009101280263\" opacity=\"0.6\" d=\"M 2.670719074918117,1.5083596968938415 L 3.589656850797141,1.9027622375328603 L 3.9840593914361593,0.9838244616538364 L 3.0651216155571355,0.5894219210148178 L 2.670719074918117,1.5083596968938415 z\" /><path fill-rule=\"evenodd\" fill=\"#ff3333\" stroke=\"#555555\" stroke-width=\"0.25755009101280263\" opacity=\"0.6\" d=\"M 9.036671453579663,-0.2617026512916433 L 8.349112945604842,0.4644263304405556 L 9.075241927337041,1.151984838415375 L 9.762800435311862,0.4258558566831762 L 9.036671453579663,-0.2617026512916433 z\" /><path fill-rule=\"evenodd\" fill=\"#ff3333\" stroke=\"#555555\" stroke-width=\"0.25755009101280263\" opacity=\"0.6\" d=\"M 4.5089958302736015,2.8853826107742004 L 3.527207732250329,3.0753619006450843 L 3.717187022121213,4.057149998668357 L 4.698975120144485,3.8671707087974725 L 4.5089958302736015,2.8853826107742004 z\" /><path fill-rule=\"evenodd\" fill=\"#ff3333\" stroke=\"#555555\" stroke-width=\"0.25755009101280263\" opacity=\"0.6\" d=\"M 1.4995094339882904,6.522815550704519 L 2.347530239227564,5.992852614376576 L 1.8175673028996222,5.144831809137304 L 0.9695464976603487,5.674794745465246 L 1.4995094339882904,6.522815550704519 z\" /><path fill-rule=\"evenodd\" fill=\"#ff3333\" stroke=\"#555555\" stroke-width=\"0.25755009101280263\" opacity=\"0.6\" d=\"M 3.429838517787983,8.765362836486485 L 2.96153730730081,7.881793950515363 L 2.0779684213296883,8.350095161002535 L 2.546269631816861,9.233664046973658 L 3.429838517787983,8.765362836486485 z\" /><path fill-rule=\"evenodd\" fill=\"#ff3333\" stroke=\"#555555\" stroke-width=\"0.25755009101280263\" opacity=\"0.6\" d=\"M 7.462298770458468,7.408119056897879 L 7.196953128513189,6.4439657027572395 L 6.232799774372549,6.7093113447025186 L 6.498145416317828,7.6734646988431585 L 7.462298770458468,7.408119056897879 z\" /><path fill-rule=\"evenodd\" fill=\"#ff3333\" stroke=\"#555555\" stroke-width=\"0.25755009101280263\" opacity=\"0.6\" d=\"M -0.24305278220845228,0.635779630745705 L -0.45660254414204693,1.6127118183504052 L 0.5203296434626532,1.8262615802839997 L 0.7338794053962479,0.8493293926792994 L -0.24305278220845228,0.635779630745705 z\" /><path fill-rule=\"evenodd\" fill=\"#ff3333\" stroke=\"#555555\" stroke-width=\"0.25755009101280263\" opacity=\"0.6\" d=\"M 5.758652732688916,4.944665603337784 L 6.566712123223488,5.533766631489064 L 7.155813151374768,4.725707240954492 L 6.347753760840196,4.136606212803212 L 5.758652732688916,4.944665603337784 z\" /><path fill-rule=\"evenodd\" fill=\"#ff3333\" stroke=\"#555555\" stroke-width=\"0.25755009101280263\" opacity=\"0.6\" d=\"M 11.467012780524744,4.176350969109365 L 10.672482837285827,3.5691259949055993 L 10.06525786308206,4.363655938144515 L 10.859787806320977,4.9708809123482816 L 11.467012780524744,4.176350969109365 z\" /><path fill-rule=\"evenodd\" fill=\"#ff3333\" stroke=\"#555555\" stroke-width=\"0.25755009101280263\" opacity=\"0.6\" d=\"M 2.7316777406111945,7.159906583010093 L 2.7291433828839797,6.159909794499795 L 1.7291465943736815,6.162444152227009 L 1.7316809521008962,7.162440940737307 L 2.7316777406111945,7.159906583010093 z\" /><path fill-rule=\"evenodd\" fill=\"#ff3333\" stroke=\"#555555\" stroke-width=\"0.25755009101280263\" opacity=\"0.6\" d=\"M 3.0933504014578084,9.669716933752387 L 2.3630621572352144,8.986577796862775 L 1.6799230203456048,9.716866041085368 L 2.410211264568199,10.400005177974979 L 3.0933504014578084,9.669716933752387 z\" /></g></g></svg>"
            ],
            "text/plain": [
              "<MULTIPOLYGON (((2.671 1.508, 3.59 1.903, 3.984 0.984, 3.065 0.589, 2.671 1....>"
            ]
          },
          "execution_count": 30,
          "metadata": {},
          "output_type": "execute_result"
        }
      ],
      "source": [
        "squares = MultiPolygon(convert2shapely([(random.uniform(0, space), random.uniform(0, space), random.uniform(1, 2*math.pi)) for i in range(N)], side_len=scale))\n",
        "squares"
      ]
    },
    {
      "cell_type": "code",
      "execution_count": 23,
      "metadata": {},
      "outputs": [
        {
          "data": {
            "image/svg+xml": [
              "<svg xmlns=\"http://www.w3.org/2000/svg\" xmlns:xlink=\"http://www.w3.org/1999/xlink\" width=\"100.0\" height=\"100.0\" viewBox=\"-0.4186183634245114 -0.4049437464528498 10.652627139516119 10.565066629975451\" preserveAspectRatio=\"xMinYMin meet\"><g transform=\"matrix(1,0,0,-1,0,9.755179137069753)\"><g><path fill-rule=\"evenodd\" fill=\"#ff3333\" stroke=\"#555555\" stroke-width=\"0.21305254279032237\" opacity=\"0.6\" d=\"M 6.727456244416596,4.531235573690018 L 7.703376667791205,4.313108713261676 L 7.485249807362863,3.3371882898870684 L 6.509329383988255,3.5553151503154092 L 6.727456244416596,4.531235573690018 z\" /><path fill-rule=\"evenodd\" fill=\"#ff3333\" stroke=\"#555555\" stroke-width=\"0.21305254279032237\" opacity=\"0.6\" d=\"M 5.541144671739155,0.8924401203525887 L 6.443986792636589,1.3224123342611425 L 6.873959006545143,0.41957021336370826 L 5.971116885647709,-0.010402000544845441 L 5.541144671739155,0.8924401203525887 z\" /><path fill-rule=\"evenodd\" fill=\"#ff3333\" stroke=\"#555555\" stroke-width=\"0.21305254279032237\" opacity=\"0.6\" d=\"M 1.4745744092408652,9.285825570962485 L 2.463518905246122,9.137539415772904 L 2.31523275005654,8.148594919767648 L 1.326288254051283,8.296881074957229 L 1.4745744092408652,9.285825570962485 z\" /><path fill-rule=\"evenodd\" fill=\"#ff3333\" stroke=\"#555555\" stroke-width=\"0.21305254279032237\" opacity=\"0.6\" d=\"M 9.839467030183602,0.9371229214632137 L 8.96080865415066,0.4596719205980446 L 8.483357653285491,1.3383302966309873 L 9.362016029318433,1.8157812974961565 L 9.839467030183602,0.9371229214632137 z\" /><path fill-rule=\"evenodd\" fill=\"#ff3333\" stroke=\"#555555\" stroke-width=\"0.21305254279032237\" opacity=\"0.6\" d=\"M 8.222909468708535,3.1221629667771498 L 7.573862300082062,2.3614148002345297 L 6.813114133539441,3.010461968861003 L 7.462161302165914,3.771210135403623 L 8.222909468708535,3.1221629667771498 z\" /><path fill-rule=\"evenodd\" fill=\"#ff3333\" stroke=\"#555555\" stroke-width=\"0.21305254279032237\" opacity=\"0.6\" d=\"M 0.4097165584716343,4.849881398101047 L -0.02407661751650708,5.750893873301097 L 0.8769358576835431,6.184687049289238 L 1.3107290336716846,5.283674574089188 L 0.4097165584716343,4.849881398101047 z\" /><path fill-rule=\"evenodd\" fill=\"#ff3333\" stroke=\"#555555\" stroke-width=\"0.21305254279032237\" opacity=\"0.6\" d=\"M 8.07023672804731,2.668150388672393 L 9.067741631143528,2.597553162813249 L 8.997144405284383,1.6000482597170322 L 7.999639502188165,1.6706454855761768 L 8.07023672804731,2.668150388672393 z\" /><path fill-rule=\"evenodd\" fill=\"#ff3333\" stroke=\"#555555\" stroke-width=\"0.21305254279032237\" opacity=\"0.6\" d=\"M 4.941138582589042,0.4393278373062585 L 5.172652892189728,1.4121593357941098 L 6.145484390677579,1.180645026193425 L 5.913970081076894,0.20781352770557365 L 4.941138582589042,0.4393278373062585 z\" /><path fill-rule=\"evenodd\" fill=\"#ff3333\" stroke=\"#555555\" stroke-width=\"0.21305254279032237\" opacity=\"0.6\" d=\"M 6.553471186315649,9.765581137614598 L 7.4572357410366426,9.337551197505308 L 7.02920580092735,8.433786642784314 L 6.125441246206357,8.861816582893605 L 6.553471186315649,9.765581137614598 z\" /><path fill-rule=\"evenodd\" fill=\"#ff3333\" stroke=\"#555555\" stroke-width=\"0.21305254279032237\" opacity=\"0.6\" d=\"M 2.441767343089263,5.901050015468342 L 2.975498418554381,6.746704282342724 L 3.8211526854287627,6.212973206877606 L 3.2874216099636446,5.367318940003224 L 2.441767343089263,5.901050015468342 z\" /><path fill-rule=\"evenodd\" fill=\"#ff3333\" stroke=\"#555555\" stroke-width=\"0.21305254279032237\" opacity=\"0.6\" d=\"M 4.668032691275468,7.899736267668827 L 4.227629104062863,8.797536178768327 L 5.125429015162362,9.237939765980931 L 5.565832602374967,8.34013985488143 L 4.668032691275468,7.899736267668827 z\" /></g></g></svg>"
            ],
            "text/plain": [
              "<MULTIPOLYGON (((6.727 4.531, 7.703 4.313, 7.485 3.337, 6.509 3.555, 6.727 4...>"
            ]
          },
          "execution_count": 23,
          "metadata": {},
          "output_type": "execute_result"
        }
      ],
      "source": [
        "squares"
      ]
    },
    {
      "attachments": {},
      "cell_type": "markdown",
      "metadata": {
        "id": "dPgj1X7op1LN"
      },
      "source": [
        "# Testing gym"
      ]
    },
    {
      "cell_type": "code",
      "execution_count": 10,
      "metadata": {},
      "outputs": [
        {
          "name": "stdout",
          "output_type": "stream",
          "text": [
            "Defaulting to user installation because normal site-packages is not writeable\n",
            "\u001b[31mERROR: SquarePacking is not a valid editable requirement. It should either be a path to a local project or a VCS URL (beginning with bzr+http, bzr+https, bzr+ssh, bzr+sftp, bzr+ftp, bzr+lp, bzr+file, git+http, git+https, git+ssh, git+git, git+file, hg+file, hg+http, hg+https, hg+ssh, hg+static-http, svn+ssh, svn+http, svn+https, svn+svn, svn+file).\u001b[0m\u001b[31m\n",
            "\u001b[0m"
          ]
        }
      ],
      "source": [
        "# !pip install gymnasium\n",
        "from typing import Union, Tuple, List\n",
        "from PIL import Image, ImageDraw\n",
        "import math\n",
        "import random\n",
        "from sympy import flatten\n",
        "from numpy.linalg import norm\n",
        "\n",
        "import numpy as np\n",
        "from typing import List, Tuple\n",
        "import math\n",
        "from math import cos, sin, tan, pi\n",
        "from shapely.geometry import MultiPolygon, Polygon, Point\n",
        "from shapely.affinity import rotate\n",
        "from shapely.ops import unary_union\n",
        "\n",
        "import gymnasium as gym\n",
        "\n",
        "# import tensorflow as tf\n",
        "# from tensorflow import keras\n",
        "# from tensorflow.keras import layers\n",
        "%load_ext autoreload\n",
        "%autoreload 2\n",
        "!pip install -e SquarePacking"
      ]
    },
    {
      "cell_type": "code",
      "execution_count": 11,
      "metadata": {
        "id": "Xf3AmSbrp35V"
      },
      "outputs": [
        {
          "ename": "ModuleNotFoundError",
          "evalue": "No module named 'SquarePacking'",
          "output_type": "error",
          "traceback": [
            "\u001b[0;31m---------------------------------------------------------------------------\u001b[0m",
            "\u001b[0;31mModuleNotFoundError\u001b[0m                       Traceback (most recent call last)",
            "Cell \u001b[0;32mIn[11], line 2\u001b[0m\n\u001b[1;32m      1\u001b[0m \u001b[38;5;66;03m# from SquarePacking.SquarePacking.SquareEnv import SquareEnv\u001b[39;00m\n\u001b[0;32m----> 2\u001b[0m \u001b[38;5;28;01mimport\u001b[39;00m \u001b[38;5;21;01mSquarePacking\u001b[39;00m\u001b[38;5;21;01m.\u001b[39;00m\u001b[38;5;21;01menv\u001b[39;00m\n\u001b[1;32m      3\u001b[0m \u001b[38;5;28;01mimport\u001b[39;00m \u001b[38;5;21;01mgymnasium\u001b[39;00m \u001b[38;5;28;01mas\u001b[39;00m \u001b[38;5;21;01mgym\u001b[39;00m\n\u001b[1;32m      4\u001b[0m seed \u001b[38;5;241m=\u001b[39m \u001b[38;5;241m42\u001b[39m\n",
            "\u001b[0;31mModuleNotFoundError\u001b[0m: No module named 'SquarePacking'"
          ]
        }
      ],
      "source": [
        "# from SquarePacking.SquarePacking.SquareEnv import SquareEnv\n",
        "import SquarePacking.env\n",
        "import gymnasium as gym\n",
        "seed = 42\n",
        "\n",
        "env = gym.make(\"SquarePacking/Square-v0\", N=10, render_mode=\"pygame\", shift_rate=.05, rot_rate=.05, bound_method='loop', flatten=True, boundary=1)\n",
        "display(env.reset())\n",
        "# env = SquareEnv(N=4, search_space=None, shift_rate=.01, rot_rate=.001)"
      ]
    },
    {
      "cell_type": "code",
      "execution_count": 12,
      "metadata": {},
      "outputs": [
        {
          "ename": "NameError",
          "evalue": "name 'env' is not defined",
          "output_type": "error",
          "traceback": [
            "\u001b[0;31m---------------------------------------------------------------------------\u001b[0m",
            "\u001b[0;31mNameError\u001b[0m                                 Traceback (most recent call last)",
            "Cell \u001b[0;32mIn[12], line 9\u001b[0m\n\u001b[1;32m      1\u001b[0m \u001b[38;5;28;01mimport\u001b[39;00m \u001b[38;5;21;01mtime\u001b[39;00m\n\u001b[1;32m      3\u001b[0m \u001b[38;5;66;03m# action = np.array([(\u001b[39;00m\n\u001b[1;32m      4\u001b[0m \u001b[38;5;66;03m#             random.uniform(-env.shift_rate, env.shift_rate),\u001b[39;00m\n\u001b[1;32m      5\u001b[0m \u001b[38;5;66;03m#             random.uniform(-env.shift_rate, env.shift_rate),\u001b[39;00m\n\u001b[1;32m      6\u001b[0m \u001b[38;5;66;03m#             random.uniform(-env.rot_rate,   env.rot_rate)\u001b[39;00m\n\u001b[1;32m      7\u001b[0m \u001b[38;5;66;03m#         ) for _ in range(env.N)])\u001b[39;00m\n\u001b[0;32m----> 9\u001b[0m \u001b[43menv\u001b[49m\u001b[38;5;241m.\u001b[39mreset()\n\u001b[1;32m     10\u001b[0m action \u001b[38;5;241m=\u001b[39m np\u001b[38;5;241m.\u001b[39marray([(\u001b[38;5;241m-\u001b[39menv\u001b[38;5;241m.\u001b[39mshift_rate, \u001b[38;5;241m-\u001b[39menv\u001b[38;5;241m.\u001b[39mshift_rate, \u001b[38;5;241m-\u001b[39menv\u001b[38;5;241m.\u001b[39mrot_rate) \u001b[38;5;28;01mfor\u001b[39;00m _ \u001b[38;5;129;01min\u001b[39;00m \u001b[38;5;28mrange\u001b[39m(env\u001b[38;5;241m.\u001b[39mN)])\u001b[38;5;241m.\u001b[39mflatten()\n\u001b[1;32m     12\u001b[0m \u001b[38;5;28;01mfor\u001b[39;00m _ \u001b[38;5;129;01min\u001b[39;00m \u001b[38;5;28mrange\u001b[39m(\u001b[38;5;241m200\u001b[39m):\n",
            "\u001b[0;31mNameError\u001b[0m: name 'env' is not defined"
          ]
        }
      ],
      "source": [
        "import time\n",
        "\n",
        "# action = np.array([(\n",
        "#             random.uniform(-env.shift_rate, env.shift_rate),\n",
        "#             random.uniform(-env.shift_rate, env.shift_rate),\n",
        "#             random.uniform(-env.rot_rate,   env.rot_rate)\n",
        "#         ) for _ in range(env.N)])\n",
        "\n",
        "env.reset()\n",
        "action = np.array([(-env.shift_rate, -env.shift_rate, -env.rot_rate) for _ in range(env.N)]).flatten()\n",
        "\n",
        "for _ in range(200):\n",
        "    time.sleep(.02)\n",
        "    obs, reward, done, _, info = env.step(action)\n",
        "    # print(obs[0])\n",
        "env.close()"
      ]
    },
    {
      "cell_type": "code",
      "execution_count": 14,
      "metadata": {},
      "outputs": [
        {
          "ename": "NameError",
          "evalue": "name 'env' is not defined",
          "output_type": "error",
          "traceback": [
            "\u001b[0;31m---------------------------------------------------------------------------\u001b[0m",
            "\u001b[0;31mNameError\u001b[0m                                 Traceback (most recent call last)",
            "Cell \u001b[0;32mIn[14], line 1\u001b[0m\n\u001b[0;32m----> 1\u001b[0m \u001b[43menv\u001b[49m\u001b[38;5;241m.\u001b[39mclose()\n",
            "\u001b[0;31mNameError\u001b[0m: name 'env' is not defined"
          ]
        }
      ],
      "source": [
        "env.close()"
      ]
    },
    {
      "cell_type": "code",
      "execution_count": 13,
      "metadata": {},
      "outputs": [
        {
          "ename": "NameError",
          "evalue": "name 'pygame' is not defined",
          "output_type": "error",
          "traceback": [
            "\u001b[0;31m---------------------------------------------------------------------------\u001b[0m",
            "\u001b[0;31mNameError\u001b[0m                                 Traceback (most recent call last)",
            "Cell \u001b[0;32mIn[13], line 1\u001b[0m\n\u001b[0;32m----> 1\u001b[0m pygame_surface \u001b[38;5;241m=\u001b[39m \u001b[43mpygame\u001b[49m\u001b[38;5;241m.\u001b[39mimage\u001b[38;5;241m.\u001b[39mload(io\u001b[38;5;241m.\u001b[39mBytesIO(env\u001b[38;5;241m.\u001b[39msquares\u001b[38;5;241m.\u001b[39msvg(\u001b[38;5;241m20\u001b[39m, \u001b[38;5;124m'\u001b[39m\u001b[38;5;124m#d12d2d\u001b[39m\u001b[38;5;124m'\u001b[39m, \u001b[38;5;241m175\u001b[39m)\u001b[38;5;241m.\u001b[39mencode()))\n",
            "\u001b[0;31mNameError\u001b[0m: name 'pygame' is not defined"
          ]
        }
      ],
      "source": [
        "pygame_surface = pygame.image.load(io.BytesIO(env.squares.svg(20, '#d12d2d', 175).encode()))"
      ]
    }
  ],
  "metadata": {
    "colab": {
      "collapsed_sections": [
        "SiuYw_AskpyL"
      ],
      "provenance": []
    },
    "kernelspec": {
      "display_name": "Python 3",
      "language": "python",
      "name": "python3"
    },
    "language_info": {
      "codemirror_mode": {
        "name": "ipython",
        "version": 3
      },
      "file_extension": ".py",
      "mimetype": "text/x-python",
      "name": "python",
      "nbconvert_exporter": "python",
      "pygments_lexer": "ipython3",
      "version": "3.12.2"
    },
    "vscode": {
      "interpreter": {
        "hash": "e7370f93d1d0cde622a1f8e1c04877d8463912d04d973331ad4851f04de6915a"
      }
    }
  },
  "nbformat": 4,
  "nbformat_minor": 0
}
