{
 "cells": [
  {
   "cell_type": "raw",
   "metadata": {
    "vscode": {
     "languageId": "raw"
    }
   },
   "source": [
    "---\n",
    "title: \"Square Packing\"\n",
    "author: \"Copeland Carter\"\n",
    "date: \"2024-04-30\"\n",
    "categories: [project, python, ML]\n",
    "jupyter:\n",
    "  jupytext:\n",
    "    text_representation:\n",
    "      extension: .qmd\n",
    "  kernelspec:\n",
    "    display_name: Python 3\n",
    "    language: python\n",
    "    name: python3\n",
    "---"
   ]
  },
  {
   "cell_type": "code",
   "execution_count": null,
   "metadata": {},
   "outputs": [],
   "source": [
    "#| echo: false\n",
    "from typing import Union, Tuple, List\n",
    "from PIL import Image, ImageDraw\n",
    "import math\n",
    "import random\n",
    "from sympy import flatten\n",
    "from numpy.linalg import norm\n",
    "\n",
    "import numpy as np\n",
    "from typing import List, Tuple\n",
    "import math\n",
    "from math import cos, sin, tan, pi\n",
    "from shapely.geometry import MultiPolygon, Polygon, Point\n",
    "from shapely.affinity import rotate\n",
    "from shapely.ops import unary_union\n",
    "\n",
    "import gymnasium as gym\n",
    "\n",
    "import tensorflow as tf\n",
    "from tensorflow import keras\n",
    "from tensorflow.keras import layers"
   ]
  },
  {
   "cell_type": "code",
   "execution_count": 3,
   "metadata": {},
   "outputs": [],
   "source": [
    "#| echo: false\n",
    "def compute_corners(squares: List[Tuple[float, float, float]], sideLen=1):\n",
    "    rtn = []\n",
    "    for x, y, rot_rad in squares:\n",
    "        # Compute the coordinates of the four corners of the square\n",
    "        half_side = sideLen / 2\n",
    "        corners = [(half_side, half_side), (half_side, -half_side), (-half_side, -half_side), (-half_side, half_side)]\n",
    "        rotated_corners = []\n",
    "        for corner in corners:\n",
    "            rotated_x = x + corner[0]*math.cos(rot_rad) - corner[1]*math.sin(rot_rad)\n",
    "            rotated_y = y + corner[0]*math.sin(rot_rad) + corner[1]*math.cos(rot_rad)\n",
    "            rotated_corners.append((rotated_x, rotated_y))\n",
    "        rtn.append(rotated_corners)\n",
    "    return rtn\n",
    "\n",
    "\n",
    "def convert2shapely(squares:List[Tuple[float, float, float]], side_len:float=1.0) -> List[Polygon]:\n",
    "    return [Polygon(corners) for corners in compute_corners(squares, sideLen=side_len)]\n"
   ]
  },
  {
   "cell_type": "markdown",
   "metadata": {},
   "source": [
    "My senior project is to attempt to use a reinforcement learning algorithm based on a [Deep Deterministic Policy Gradient](https://spinningup.openai.com/en/latest/algorithms/ddpg.html) model for use with a continuous observation *and* action space, in order to solve the [Square Packing in a Square](https://en.wikipedia.org/wiki/Square_packing) problem for N=11 squares.\n",
    "\n",
    "That was a very intelligent sounding sentence. Let's break it down:\n",
    "\n",
    "\n",
    "### Square Packing in a Square\n",
    "The [*Square Packing in a Square*](https://en.wikipedia.org/wiki/Square_packing) problem is an unsolved problem in mathematics where the goal is to pack `N` squares with a side length of 1 into another square, while wasting as little space as possible. \n",
    "\n",
    "The technical wording is\n",
    "        \n",
    "> What is the asymptotic growth rate of wasted space for square packing in a half-integer square?\n",
    "\n",
    "I'm not going to be solving that. Instead I'm going to attempt to use Reinforcement Learning (RL) to attempt to figure out a better solution for me. I have no idea how well it will work.\n",
    "\n",
    "There are known configurations for N=1-10 squares, but 11 (and some others) are only approximately solved. This tries to find a more optimal configuration for N=11 squares by using RL instead of pure math.\n",
    "\n",
    "The theoretial optimal packing has a side length of 3.789, but the best known is 3.877084\n",
    "\n",
    "![](wiki_snip.png)\n",
    "\n",
    "### DDPG\n",
    "[DDPG](https://spinningup.openai.com/en/latest/algorithms/ddpg.html) model is a kind of [actor-critic](https://www.mathworks.com/help/reinforcement-learning/ref/rl.agent.rlacagent.html) setup (not technically a model) that allows continuous rather than discrete observation and action spaces. This is important, because I want to find a very precise solution, as opposed to infinitely increasing the discrete resolution of steps the AI can take.\n",
    "\n",
    "An actor-critic setup has 2 models (though the DDPG setup has 4, for training purposes). One model is the actor, which takes in an observation from the enviorment, learns to outputs actions to take in the enviorment, optimized to some reward function. The other model takes in an observation from the enviorment and the action taken by the actor for that observation, and learns to output the reward that that action will get for that observation. The actor model can then use the output of the critic model to train itself. \n",
    "\n",
    "It's kind of like learning to dance to a song on a stage based on some guy in the back either clapping or yelling \"boooo!\". Eventually you can start to understand what the critic is asking for.\n",
    "        \n",
    "This is the fundemental equation behind the DDPG algorithm. I understood it at one point, but have since forgot. See the above links for a real explanation. \n"
   ]
  },
  {
   "attachments": {
    "image.png": {
     "image/png": "[encoded data removed]"
    }
   },
   "cell_type": "markdown",
   "metadata": {},
   "source": [
    "![](attachment:image.png)"
   ]
  },
  {
   "cell_type": "code",
   "execution_count": 5,
   "metadata": {},
   "outputs": [],
   "source": [
    "#| echo: false\n",
    "N=11\n",
    "scale = 1\n",
    "space = N*scale"
   ]
  },
  {
   "cell_type": "markdown",
   "metadata": {},
   "source": [
    "### Implementation\n",
    "Both the action and observation spaces will have the shape `(3*N, )` (N is the number of squares, so 11) where each square has an x, y and rotation values. The actor's actions simply get added to the current square positions and rotations (since the actor actions can be negative), so the actor can make small adjustments to squeze the squares closer to each other.\n",
    "\n",
    "The reward function hasn't been developed yet, but it will involve something like steeply punishing overlapping squares, and incentivizing smaller \"bounding square\" side lengths (like a bounding rectangle, but a square)."
   ]
  },
  {
   "cell_type": "markdown",
   "metadata": {},
   "source": [
    "\n",
    "I'll be using [Shapely](https://pypi.org/project/shapely/) for the geometry handling:"
   ]
  },
  {
   "cell_type": "code",
   "execution_count": 7,
   "metadata": {},
   "outputs": [
    {
     "data": {
      "image/svg+xml": [
       "<svg xmlns=\"http://www.w3.org/2000/svg\" xmlns:xlink=\"http://www.w3.org/1999/xlink\" width=\"100.0\" height=\"100.0\" viewBox=\"0.30426055821952713 -0.5271234486724105 11.724391431197317 11.976409553772493\" preserveAspectRatio=\"xMinYMin meet\"><g transform=\"matrix(1,0,0,-1,0,10.922162656427671)\"><g><path fill-rule=\"evenodd\" fill=\"#ff3333\" stroke=\"#555555\" stroke-width=\"0.23952819107544987\" opacity=\"0.6\" d=\"M 5.265445305069935,10.158221782611855 L 6.18543036140931,9.766268346458736 L 5.79347692525619,8.846283290119361 L 4.873491868916815,9.238236726272481 L 5.265445305069935,10.158221782611855 z\" /><path fill-rule=\"evenodd\" fill=\"#ff3333\" stroke=\"#555555\" stroke-width=\"0.23952819107544987\" opacity=\"0.6\" d=\"M 10.171477618341616,5.617635201289886 L 10.899044373629096,6.303672092863838 L 11.585081265203048,5.57610533757636 L 10.857514509915568,4.890068446002408 L 10.171477618341616,5.617635201289886 z\" /><path fill-rule=\"evenodd\" fill=\"#ff3333\" stroke=\"#555555\" stroke-width=\"0.23952819107544987\" opacity=\"0.6\" d=\"M 2.4451636248399113,-0.08355272445861439 L 1.581648308257245,0.4207698885849981 L 2.0859709213008575,1.2842852051676648 L 2.949486237883524,0.7799625921240523 L 2.4451636248399113,-0.08355272445861439 z\" /><path fill-rule=\"evenodd\" fill=\"#ff3333\" stroke=\"#555555\" stroke-width=\"0.23952819107544987\" opacity=\"0.6\" d=\"M 6.320631591362078,4.433306031808451 L 6.21101251526564,5.4272797025642525 L 7.204986186021442,5.5368987786606905 L 7.31460526211788,4.542925107904889 L 6.320631591362078,4.433306031808451 z\" /><path fill-rule=\"evenodd\" fill=\"#ff3333\" stroke=\"#555555\" stroke-width=\"0.23952819107544987\" opacity=\"0.6\" d=\"M 8.39504526006247,10.265815830533388 L 9.067762626708806,11.005715380886286 L 9.807662177061705,10.332998014239951 L 9.13494481041537,9.593098463887053 L 8.39504526006247,10.265815830533388 z\" /><path fill-rule=\"evenodd\" fill=\"#ff3333\" stroke=\"#555555\" stroke-width=\"0.23952819107544987\" opacity=\"0.6\" d=\"M 5.148973202769383,1.3502906682081968 L 5.124211614077723,0.3505972833518874 L 4.1245182292214135,0.3753588720435482 L 4.149279817913074,1.3750522568998576 L 5.148973202769383,1.3502906682081968 z\" /><path fill-rule=\"evenodd\" fill=\"#ff3333\" stroke=\"#555555\" stroke-width=\"0.23952819107544987\" opacity=\"0.6\" d=\"M 0.7478312824333232,3.4567526444700043 L 1.15469790504911,4.37024022041246 L 2.0681854809915654,3.9633735977966733 L 1.6613188583757785,3.049886021854218 L 0.7478312824333232,3.4567526444700043 z\" /><path fill-rule=\"evenodd\" fill=\"#ff3333\" stroke=\"#555555\" stroke-width=\"0.23952819107544987\" opacity=\"0.6\" d=\"M 5.956250864975018,7.435561902189087 L 6.901893088019796,7.760770736624637 L 7.227101922455346,6.815128513579858 L 6.281459699410568,6.489919679144308 L 5.956250864975018,7.435561902189087 z\" /><path fill-rule=\"evenodd\" fill=\"#ff3333\" stroke=\"#555555\" stroke-width=\"0.23952819107544987\" opacity=\"0.6\" d=\"M 3.084527363261801,3.7644284758559117 L 3.6824826700531657,4.56595792077983 L 4.484012114977085,3.9680026139884657 L 3.88605680818572,3.166473169064547 L 3.084527363261801,3.7644284758559117 z\" /><path fill-rule=\"evenodd\" fill=\"#ff3333\" stroke=\"#555555\" stroke-width=\"0.23952819107544987\" opacity=\"0.6\" d=\"M 2.400779379684849,7.145876343341139 L 2.354653121214933,6.146940725656212 L 1.3557175035300062,6.193066984126129 L 1.4018437619999224,7.192002601811056 L 2.400779379684849,7.145876343341139 z\" /><path fill-rule=\"evenodd\" fill=\"#ff3333\" stroke=\"#555555\" stroke-width=\"0.23952819107544987\" opacity=\"0.6\" d=\"M 6.743199183032118,8.467141097621138 L 6.459526756322237,7.508219852510504 L 5.500605511211605,7.791892279220385 L 5.784277937921486,8.750813524331019 L 6.743199183032118,8.467141097621138 z\" /></g></g></svg>"
      ],
      "text/plain": [
       "<MULTIPOLYGON (((5.265 10.158, 6.185 9.766, 5.793 8.846, 4.873 9.238, 5.265 ...>"
      ]
     },
     "execution_count": 7,
     "metadata": {},
     "output_type": "execute_result"
    }
   ],
   "source": [
    "# This is an example of converting the action space into a shapely object\n",
    "MultiPolygon(convert2shapely([(random.uniform(0, space), random.uniform(0, space), random.uniform(1, 2*math.pi)) for i in range(N)], side_len=scale))"
   ]
  },
  {
   "cell_type": "markdown",
   "metadata": {},
   "source": [
    "I'll use [Tensorflow](https://www.tensorflow.org/) for the models, this is my proposed actor network structure:"
   ]
  },
  {
   "cell_type": "markdown",
   "metadata": {},
   "source": [
    "![](model.png)"
   ]
  },
  {
   "cell_type": "markdown",
   "metadata": {},
   "source": [
    "And for the RL enviorment, I'll use the popular [Gymnasium](https://gymnasium.farama.org/) library, specifically my own personal SimpleGym class which is a helpful abstraction on top of gymnasium:"
   ]
  },
  {
   "cell_type": "markdown",
   "metadata": {},
   "source": [
    "![](SimpleGymDemo.png)"
   ]
  }
 ],
 "metadata": {
  "kernelspec": {
   "display_name": "Python 3",
   "language": "python",
   "name": "python3"
  },
  "language_info": {
   "codemirror_mode": {
    "name": "ipython",
    "version": 3
   },
   "file_extension": ".py",
   "mimetype": "text/x-python",
   "name": "python",
   "nbconvert_exporter": "python",
   "pygments_lexer": "ipython3",
   "version": "3.12.2"
  }
 },
 "nbformat": 4,
 "nbformat_minor": 2
}
