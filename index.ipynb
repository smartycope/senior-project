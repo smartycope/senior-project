{
  "cells": [
    {
      "cell_type": "raw",
      "metadata": {},
      "source": [
        "---\n",
        "title: \"Copeland Carter's Blog\"\n",
        "listing:\n",
        "  contents: posts\n",
        "  sort: \"date desc\"\n",
        "  type: default\n",
        "  categories: true\n",
        "  sort-ui: true\n",
        "  filter-ui: true\n",
        "page-layout: full\n",
        "title-block-banner: true\n",
        "---"
      ],
      "id": "dbda93e1"
    },
    {
      "cell_type": "code",
      "metadata": {},
      "source": [
        "#     // <!-- <link rel=\"stylesheet\" href=\"styles.css\"> -->\n",
        "# // <!-- <script type=\"text/javascript\">\n",
        "# var file = location.pathname.split( \"/\" ).pop();\n",
        "\n",
        "# var link = document.createElement( \"link\" );\n",
        "# link.href = file.substr( 0, file.lastIndexOf( \".\" ) ) + \".css\";\n",
        "# link.type = \"text/css\";\n",
        "# link.rel = \"stylesheet\";\n",
        "# link.media = \"screen,print\";\n",
        "\n",
        "# document.getElementsByTagName( \"head\" )[0].appendChild( link );\n",
        "# // </script> -->\n",
        "print('helo world')"
      ],
      "id": "5c3c3acd",
      "execution_count": null,
      "outputs": []
    }
  ],
  "metadata": {
    "kernelspec": {
      "name": "python3",
      "language": "python",
      "display_name": "Python 3 (ipykernel)"
    }
  },
  "nbformat": 4,
  "nbformat_minor": 5
}